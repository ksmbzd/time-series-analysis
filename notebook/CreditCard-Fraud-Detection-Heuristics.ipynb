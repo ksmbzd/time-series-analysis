{
 "cells": [
  {
   "attachments": {},
   "cell_type": "markdown",
   "metadata": {},
   "source": [
    "# Credit-Card-Fraud-Detection-Heuristics"
   ]
  },
  {
   "attachments": {},
   "cell_type": "markdown",
   "metadata": {},
   "source": [
    "Data Analysis and Evaluation "
   ]
  },
  {
   "cell_type": "code",
   "execution_count": 1,
   "metadata": {},
   "outputs": [],
   "source": [
    "# Import Libraries\n",
    "import pandas as pd\n",
    "import matplotlib.pyplot as plt\n",
    "from sklearn.metrics import f1_score, confusion_matrix, classification_report, recall_score, precision_score\n",
    "from sklearn.metrics import classification_report\n"
   ]
  },
  {
   "attachments": {},
   "cell_type": "markdown",
   "metadata": {},
   "source": [
    "Load and Review Data"
   ]
  },
  {
   "cell_type": "code",
   "execution_count": 2,
   "metadata": {},
   "outputs": [],
   "source": [
    "\n",
    "data = pd.read_csv('../../data/creditcard.csv')\n",
    "start_date = pd.Timestamp('2020-07-06')  # Adjust this to your desired start date\n",
    "data['Time'] = start_date + pd.to_timedelta(data['Time'], unit='s')\n",
    "data.set_index('Time', inplace=True)\n"
   ]
  },
  {
   "cell_type": "code",
   "execution_count": 3,
   "metadata": {},
   "outputs": [
    {
     "data": {
      "text/html": [
       "<div>\n",
       "<style scoped>\n",
       "    .dataframe tbody tr th:only-of-type {\n",
       "        vertical-align: middle;\n",
       "    }\n",
       "\n",
       "    .dataframe tbody tr th {\n",
       "        vertical-align: top;\n",
       "    }\n",
       "\n",
       "    .dataframe thead th {\n",
       "        text-align: right;\n",
       "    }\n",
       "</style>\n",
       "<table border=\"1\" class=\"dataframe\">\n",
       "  <thead>\n",
       "    <tr style=\"text-align: right;\">\n",
       "      <th></th>\n",
       "      <th>V1</th>\n",
       "      <th>V2</th>\n",
       "      <th>V3</th>\n",
       "      <th>V4</th>\n",
       "      <th>V5</th>\n",
       "      <th>V6</th>\n",
       "      <th>V7</th>\n",
       "      <th>V8</th>\n",
       "      <th>V9</th>\n",
       "      <th>V10</th>\n",
       "      <th>...</th>\n",
       "      <th>V21</th>\n",
       "      <th>V22</th>\n",
       "      <th>V23</th>\n",
       "      <th>V24</th>\n",
       "      <th>V25</th>\n",
       "      <th>V26</th>\n",
       "      <th>V27</th>\n",
       "      <th>V28</th>\n",
       "      <th>Amount</th>\n",
       "      <th>Class</th>\n",
       "    </tr>\n",
       "    <tr>\n",
       "      <th>Time</th>\n",
       "      <th></th>\n",
       "      <th></th>\n",
       "      <th></th>\n",
       "      <th></th>\n",
       "      <th></th>\n",
       "      <th></th>\n",
       "      <th></th>\n",
       "      <th></th>\n",
       "      <th></th>\n",
       "      <th></th>\n",
       "      <th></th>\n",
       "      <th></th>\n",
       "      <th></th>\n",
       "      <th></th>\n",
       "      <th></th>\n",
       "      <th></th>\n",
       "      <th></th>\n",
       "      <th></th>\n",
       "      <th></th>\n",
       "      <th></th>\n",
       "      <th></th>\n",
       "    </tr>\n",
       "  </thead>\n",
       "  <tbody>\n",
       "    <tr>\n",
       "      <th>2020-07-06 00:00:00</th>\n",
       "      <td>-1.359807</td>\n",
       "      <td>-0.072781</td>\n",
       "      <td>2.536347</td>\n",
       "      <td>1.378155</td>\n",
       "      <td>-0.338321</td>\n",
       "      <td>0.462388</td>\n",
       "      <td>0.239599</td>\n",
       "      <td>0.098698</td>\n",
       "      <td>0.363787</td>\n",
       "      <td>0.090794</td>\n",
       "      <td>...</td>\n",
       "      <td>-0.018307</td>\n",
       "      <td>0.277838</td>\n",
       "      <td>-0.110474</td>\n",
       "      <td>0.066928</td>\n",
       "      <td>0.128539</td>\n",
       "      <td>-0.189115</td>\n",
       "      <td>0.133558</td>\n",
       "      <td>-0.021053</td>\n",
       "      <td>149.62</td>\n",
       "      <td>0</td>\n",
       "    </tr>\n",
       "    <tr>\n",
       "      <th>2020-07-06 00:00:00</th>\n",
       "      <td>1.191857</td>\n",
       "      <td>0.266151</td>\n",
       "      <td>0.166480</td>\n",
       "      <td>0.448154</td>\n",
       "      <td>0.060018</td>\n",
       "      <td>-0.082361</td>\n",
       "      <td>-0.078803</td>\n",
       "      <td>0.085102</td>\n",
       "      <td>-0.255425</td>\n",
       "      <td>-0.166974</td>\n",
       "      <td>...</td>\n",
       "      <td>-0.225775</td>\n",
       "      <td>-0.638672</td>\n",
       "      <td>0.101288</td>\n",
       "      <td>-0.339846</td>\n",
       "      <td>0.167170</td>\n",
       "      <td>0.125895</td>\n",
       "      <td>-0.008983</td>\n",
       "      <td>0.014724</td>\n",
       "      <td>2.69</td>\n",
       "      <td>0</td>\n",
       "    </tr>\n",
       "    <tr>\n",
       "      <th>2020-07-06 00:00:01</th>\n",
       "      <td>-1.358354</td>\n",
       "      <td>-1.340163</td>\n",
       "      <td>1.773209</td>\n",
       "      <td>0.379780</td>\n",
       "      <td>-0.503198</td>\n",
       "      <td>1.800499</td>\n",
       "      <td>0.791461</td>\n",
       "      <td>0.247676</td>\n",
       "      <td>-1.514654</td>\n",
       "      <td>0.207643</td>\n",
       "      <td>...</td>\n",
       "      <td>0.247998</td>\n",
       "      <td>0.771679</td>\n",
       "      <td>0.909412</td>\n",
       "      <td>-0.689281</td>\n",
       "      <td>-0.327642</td>\n",
       "      <td>-0.139097</td>\n",
       "      <td>-0.055353</td>\n",
       "      <td>-0.059752</td>\n",
       "      <td>378.66</td>\n",
       "      <td>0</td>\n",
       "    </tr>\n",
       "    <tr>\n",
       "      <th>2020-07-06 00:00:01</th>\n",
       "      <td>-0.966272</td>\n",
       "      <td>-0.185226</td>\n",
       "      <td>1.792993</td>\n",
       "      <td>-0.863291</td>\n",
       "      <td>-0.010309</td>\n",
       "      <td>1.247203</td>\n",
       "      <td>0.237609</td>\n",
       "      <td>0.377436</td>\n",
       "      <td>-1.387024</td>\n",
       "      <td>-0.054952</td>\n",
       "      <td>...</td>\n",
       "      <td>-0.108300</td>\n",
       "      <td>0.005274</td>\n",
       "      <td>-0.190321</td>\n",
       "      <td>-1.175575</td>\n",
       "      <td>0.647376</td>\n",
       "      <td>-0.221929</td>\n",
       "      <td>0.062723</td>\n",
       "      <td>0.061458</td>\n",
       "      <td>123.50</td>\n",
       "      <td>0</td>\n",
       "    </tr>\n",
       "    <tr>\n",
       "      <th>2020-07-06 00:00:02</th>\n",
       "      <td>-1.158233</td>\n",
       "      <td>0.877737</td>\n",
       "      <td>1.548718</td>\n",
       "      <td>0.403034</td>\n",
       "      <td>-0.407193</td>\n",
       "      <td>0.095921</td>\n",
       "      <td>0.592941</td>\n",
       "      <td>-0.270533</td>\n",
       "      <td>0.817739</td>\n",
       "      <td>0.753074</td>\n",
       "      <td>...</td>\n",
       "      <td>-0.009431</td>\n",
       "      <td>0.798278</td>\n",
       "      <td>-0.137458</td>\n",
       "      <td>0.141267</td>\n",
       "      <td>-0.206010</td>\n",
       "      <td>0.502292</td>\n",
       "      <td>0.219422</td>\n",
       "      <td>0.215153</td>\n",
       "      <td>69.99</td>\n",
       "      <td>0</td>\n",
       "    </tr>\n",
       "  </tbody>\n",
       "</table>\n",
       "<p>5 rows × 30 columns</p>\n",
       "</div>"
      ],
      "text/plain": [
       "                           V1        V2        V3        V4        V5   \n",
       "Time                                                                    \n",
       "2020-07-06 00:00:00 -1.359807 -0.072781  2.536347  1.378155 -0.338321  \\\n",
       "2020-07-06 00:00:00  1.191857  0.266151  0.166480  0.448154  0.060018   \n",
       "2020-07-06 00:00:01 -1.358354 -1.340163  1.773209  0.379780 -0.503198   \n",
       "2020-07-06 00:00:01 -0.966272 -0.185226  1.792993 -0.863291 -0.010309   \n",
       "2020-07-06 00:00:02 -1.158233  0.877737  1.548718  0.403034 -0.407193   \n",
       "\n",
       "                           V6        V7        V8        V9       V10  ...   \n",
       "Time                                                                   ...   \n",
       "2020-07-06 00:00:00  0.462388  0.239599  0.098698  0.363787  0.090794  ...  \\\n",
       "2020-07-06 00:00:00 -0.082361 -0.078803  0.085102 -0.255425 -0.166974  ...   \n",
       "2020-07-06 00:00:01  1.800499  0.791461  0.247676 -1.514654  0.207643  ...   \n",
       "2020-07-06 00:00:01  1.247203  0.237609  0.377436 -1.387024 -0.054952  ...   \n",
       "2020-07-06 00:00:02  0.095921  0.592941 -0.270533  0.817739  0.753074  ...   \n",
       "\n",
       "                          V21       V22       V23       V24       V25   \n",
       "Time                                                                    \n",
       "2020-07-06 00:00:00 -0.018307  0.277838 -0.110474  0.066928  0.128539  \\\n",
       "2020-07-06 00:00:00 -0.225775 -0.638672  0.101288 -0.339846  0.167170   \n",
       "2020-07-06 00:00:01  0.247998  0.771679  0.909412 -0.689281 -0.327642   \n",
       "2020-07-06 00:00:01 -0.108300  0.005274 -0.190321 -1.175575  0.647376   \n",
       "2020-07-06 00:00:02 -0.009431  0.798278 -0.137458  0.141267 -0.206010   \n",
       "\n",
       "                          V26       V27       V28  Amount  Class  \n",
       "Time                                                              \n",
       "2020-07-06 00:00:00 -0.189115  0.133558 -0.021053  149.62      0  \n",
       "2020-07-06 00:00:00  0.125895 -0.008983  0.014724    2.69      0  \n",
       "2020-07-06 00:00:01 -0.139097 -0.055353 -0.059752  378.66      0  \n",
       "2020-07-06 00:00:01 -0.221929  0.062723  0.061458  123.50      0  \n",
       "2020-07-06 00:00:02  0.502292  0.219422  0.215153   69.99      0  \n",
       "\n",
       "[5 rows x 30 columns]"
      ]
     },
     "execution_count": 3,
     "metadata": {},
     "output_type": "execute_result"
    }
   ],
   "source": [
    "data_df = data.copy()\n",
    "data_df.head()"
   ]
  },
  {
   "cell_type": "code",
   "execution_count": 4,
   "metadata": {},
   "outputs": [
    {
     "name": "stdout",
     "output_type": "stream",
     "text": [
      "V1        0\n",
      "V2        0\n",
      "V3        0\n",
      "V4        0\n",
      "V5        0\n",
      "V6        0\n",
      "V7        0\n",
      "V8        0\n",
      "V9        0\n",
      "V10       0\n",
      "V11       0\n",
      "V12       0\n",
      "V13       0\n",
      "V14       0\n",
      "V15       0\n",
      "V16       0\n",
      "V17       0\n",
      "V18       0\n",
      "V19       0\n",
      "V20       0\n",
      "V21       0\n",
      "V22       0\n",
      "V23       0\n",
      "V24       0\n",
      "V25       0\n",
      "V26       0\n",
      "V27       0\n",
      "V28       0\n",
      "Amount    0\n",
      "Class     0\n",
      "dtype: int64\n"
     ]
    }
   ],
   "source": [
    "# Check for missing values\n",
    "print(data_df.isna().sum())\n",
    "\n",
    "# we don't have missing data "
   ]
  },
  {
   "cell_type": "code",
   "execution_count": 5,
   "metadata": {},
   "outputs": [
    {
     "name": "stdout",
     "output_type": "stream",
     "text": [
      "<class 'pandas.core.frame.DataFrame'>\n",
      "DatetimeIndex: 284807 entries, 2020-07-06 00:00:00 to 2020-07-07 23:59:52\n",
      "Data columns (total 30 columns):\n",
      " #   Column  Non-Null Count   Dtype  \n",
      "---  ------  --------------   -----  \n",
      " 0   V1      284807 non-null  float64\n",
      " 1   V2      284807 non-null  float64\n",
      " 2   V3      284807 non-null  float64\n",
      " 3   V4      284807 non-null  float64\n",
      " 4   V5      284807 non-null  float64\n",
      " 5   V6      284807 non-null  float64\n",
      " 6   V7      284807 non-null  float64\n",
      " 7   V8      284807 non-null  float64\n",
      " 8   V9      284807 non-null  float64\n",
      " 9   V10     284807 non-null  float64\n",
      " 10  V11     284807 non-null  float64\n",
      " 11  V12     284807 non-null  float64\n",
      " 12  V13     284807 non-null  float64\n",
      " 13  V14     284807 non-null  float64\n",
      " 14  V15     284807 non-null  float64\n",
      " 15  V16     284807 non-null  float64\n",
      " 16  V17     284807 non-null  float64\n",
      " 17  V18     284807 non-null  float64\n",
      " 18  V19     284807 non-null  float64\n",
      " 19  V20     284807 non-null  float64\n",
      " 20  V21     284807 non-null  float64\n",
      " 21  V22     284807 non-null  float64\n",
      " 22  V23     284807 non-null  float64\n",
      " 23  V24     284807 non-null  float64\n",
      " 24  V25     284807 non-null  float64\n",
      " 25  V26     284807 non-null  float64\n",
      " 26  V27     284807 non-null  float64\n",
      " 27  V28     284807 non-null  float64\n",
      " 28  Amount  284807 non-null  float64\n",
      " 29  Class   284807 non-null  int64  \n",
      "dtypes: float64(29), int64(1)\n",
      "memory usage: 67.4 MB\n"
     ]
    }
   ],
   "source": [
    "data_df.info()"
   ]
  },
  {
   "attachments": {},
   "cell_type": "markdown",
   "metadata": {},
   "source": [
    "Class nomalies"
   ]
  },
  {
   "cell_type": "code",
   "execution_count": 6,
   "metadata": {},
   "outputs": [
    {
     "data": {
      "text/plain": [
       "array([0, 1], dtype=int64)"
      ]
     },
     "execution_count": 6,
     "metadata": {},
     "output_type": "execute_result"
    }
   ],
   "source": [
    "data_df['Class'].unique() #target variable 1: Fruad 0 : non fruad"
   ]
  },
  {
   "cell_type": "code",
   "execution_count": 7,
   "metadata": {},
   "outputs": [
    {
     "name": "stdout",
     "output_type": "stream",
     "text": [
      "Class\n",
      "0    284315\n",
      "1       492\n",
      "Name: count, dtype: int64\n"
     ]
    }
   ],
   "source": [
    "# count the occurrences of each class\n",
    "class_counts = data_df[\"Class\"].value_counts()\n",
    "print(class_counts)\n"
   ]
  },
  {
   "attachments": {},
   "cell_type": "markdown",
   "metadata": {},
   "source": [
    "Testing \"Vs\" for Stationary"
   ]
  },
  {
   "cell_type": "code",
   "execution_count": 8,
   "metadata": {},
   "outputs": [
    {
     "name": "stdout",
     "output_type": "stream",
     "text": [
      "    V  ADF Statistic       p-value  Stationary\n",
      "1  V1     -33.889766  0.000000e+00        True\n",
      "2  V2     -39.037918  0.000000e+00        True\n",
      "3  V3     -12.697765  1.096613e-23        True\n",
      "4  V4     -33.857356  0.000000e+00        True\n",
      "5  V5     -25.127779  0.000000e+00        True\n"
     ]
    }
   ],
   "source": [
    "from statsmodels.tsa.stattools import adfuller\n",
    "\n",
    "#empty DataFrame to store the results\n",
    "results = pd.DataFrame(columns=['V', 'ADF Statistic', 'p-value', 'Stationary'])\n",
    "# looping over each column from V1 to V5\n",
    "for i in range(1, 6):\n",
    "    column = 'V'+str(i)\n",
    "    result = adfuller(data_df[column])\n",
    "\n",
    "    # check if the p-value is less than 0.05\n",
    "    is_stationary = result[1] < 0.05\n",
    "    results.loc[i] = [column, result[0], result[1], is_stationary]\n",
    "\n",
    "print(results)\n"
   ]
  },
  {
   "attachments": {},
   "cell_type": "markdown",
   "metadata": {},
   "source": [
    "V1 to V5 are stationary, after testing them with adfuller "
   ]
  },
  {
   "attachments": {},
   "cell_type": "markdown",
   "metadata": {},
   "source": [
    "# Naive Approach"
   ]
  },
  {
   "cell_type": "code",
   "execution_count": 10,
   "metadata": {},
   "outputs": [],
   "source": [
    "import numpy as np\n",
    "from sklearn.metrics import  f1_score , confusion_matrix,classification_report, accuracy_score,recall_score,precision_score\n",
    "plt.rcParams['figure.figsize'] = (18, 5)\n",
    "\n",
    "Vs = ['V1','V2','V3','V4','V5']      \n",
    "results_df = pd.DataFrame(columns=['Vs','Method','Accuracy','F1','Recall','Precision','FNR','FPR'])\n"
   ]
  },
  {
   "cell_type": "code",
   "execution_count": 11,
   "metadata": {},
   "outputs": [],
   "source": [
    "def asses_method(y_true, y_pred):\n",
    "    \n",
    "    #classification report\n",
    "    print(classification_report(y_true, y_pred))\n",
    "    \n",
    "    # F1 score\n",
    "    F1_score = f1_score(y_true, y_pred)*100\n",
    "    print('F1-score: {:.2f}%'.format(F1_score))\n",
    "    \n",
    "    # confusion matrix\n",
    "    print('Confusion matrix:')\n",
    "    cnf_matrix=confusion_matrix(y_true, y_pred)\n",
    "    \n",
    "    print(cnf_matrix)\n",
    "    TP = cnf_matrix[0][0]\n",
    "    FP = cnf_matrix[0][1]\n",
    "    FN = cnf_matrix[1][0]\n",
    "    TN = cnf_matrix[1][1]\n",
    "    \n",
    "    #False positive rate\n",
    "    FPR = round(FP/(FP+TN)*100, 2)\n",
    "    print('False Positive Rate:', FPR)\n",
    "\n",
    "    # False negative rate\n",
    "    FNR = round(FN/(TP+FN)*100, 2)\n",
    "    print('False Negative Rate:', FNR)   \n",
    "    \n",
    "    #accuracy part\n",
    "    ACC = round((TP+TN)/(TP+FP+FN+TN)*100, 2)\n",
    "    \n",
    "    F1 = round(f1_score(y_true, y_pred)*100, 2)\n",
    "    Recall = round(recall_score(y_true, y_pred)*100, 2)\n",
    "    Precision = round(precision_score(y_true, y_pred)*100, 2)\n",
    "\n",
    "    return {'Accuracy':ACC, 'F1':F1,'Precision':Precision,'Recall':Recall,'FPR':FPR,'FNR':FNR}\n",
    "\n",
    "\n",
    "        "
   ]
  },
  {
   "cell_type": "code",
   "execution_count": 12,
   "metadata": {},
   "outputs": [],
   "source": [
    "def plot_Vs(Vs,data):\n",
    "    plt.rcParams['figure.figsize'] = (18, 5)\n",
    "    data[[Vs]].plot()\n",
    "    plt.title(Vs)\n",
    "    plt.legend(loc='best')\n",
    "    plt.show()"
   ]
  },
  {
   "cell_type": "code",
   "execution_count": 13,
   "metadata": {},
   "outputs": [],
   "source": [
    "def plot_cutoff(Vs,data,cutoff,lower_cutoff):\n",
    "    plt.rcParams['figure.figsize'] = (18, 5)\n",
    "    plt.plot(data[Vs])\n",
    "    plt.fill_between(data.index, y1=cutoff,y2=lower_cutoff, alpha=0.2, color='green', linestyle='--', linewidth=2)"
   ]
  },
  {
   "cell_type": "code",
   "execution_count": 14,
   "metadata": {},
   "outputs": [],
   "source": [
    "def plot_Vs_reel_anomalies(Vs,data):\n",
    "    fig=plt.figure(figsize=(18,5))\n",
    "    ax=fig.add_subplot(1,1,1)\n",
    "    ax.plot(data[[Vs]])\n",
    "    outliers= data[data['Class']== 1][Vs]\n",
    "    outliers.plot(marker='.', linestyle='none', c=\"orange\")\n",
    "    ax.set_title(Vs + \" Reel Anomalies\")\n",
    "    ax.legend(loc='best',labels=[Vs,'Reel Anomalies'])\n",
    "    plt.show()"
   ]
  },
  {
   "cell_type": "code",
   "execution_count": 15,
   "metadata": {},
   "outputs": [],
   "source": [
    "def plot_outliers(Vs,data,upper_outliers,lower_outliers):\n",
    "    fig=plt.figure(figsize=(18,5))\n",
    "    ax=fig.add_subplot(1,1,1)\n",
    "    ax.plot(data[[Vs]])\n",
    "    upper_outliers.plot(marker='.', linestyle='none', c=\"g\")\n",
    "    lower_outliers.plot(marker='.', linestyle='none', c=\"r\")\n",
    "    ax.legend(loc='best', labels=[Vs,'Upper outliers', 'Lower outliers'])\n",
    "    ax.set_title(Vs + ' Cutoff Detected Anamolies')\n",
    "    plt.show()\n",
    "    "
   ]
  },
  {
   "cell_type": "markdown",
   "metadata": {},
   "source": [
    "# 1 - Compute the Global Mean & Global standard deviation of the CreditCard data"
   ]
  },
  {
   "cell_type": "code",
   "execution_count": 16,
   "metadata": {},
   "outputs": [],
   "source": [
    "def apply_cutoff_method(Vs,data,upper_cutoff_threshold = 1, lower_cutoff_threshold =1):\n",
    "    \n",
    "    #plot original data\n",
    "    plot_Vs(Vs,data)\n",
    "    \n",
    "    # Get Mean and STD\n",
    "    mean = data[Vs].mean()\n",
    "    std =  data[Vs].std()\n",
    "    print(f\"mean = {mean:.2f}, standard deviation = {std:.2f}\")\n",
    "    \n",
    "    # Apply Cutoff\n",
    "    cutoff = mean + upper_cutoff_threshold * std\n",
    "    lower_cutoff=cutoff / lower_cutoff_threshold\n",
    "    print(f\"Cutoff value = {cutoff:.2f} , Lower cutoff value = {lower_cutoff:.2f}\")\n",
    "    \n",
    "    # plot Vs data with cutoff\n",
    "    plot_cutoff(Vs,data,cutoff,lower_cutoff)\n",
    "    \n",
    "    new_data=data.copy()\n",
    "    new_data['cutoff_status'] = 0\n",
    "    mask = (new_data[Vs]> cutoff) | (new_data[Vs]< lower_cutoff)\n",
    "    new_data.loc[mask, 'cutoff_status'] = 1\n",
    "    \n",
    "    # detect and plot upper outliers\n",
    "    outliers_u = new_data[new_data[Vs]> cutoff][Vs]\n",
    "    \n",
    "    #detect and plot lower outliers\n",
    "    outliers_l = new_data[new_data[Vs]<lower_cutoff][Vs]\n",
    "\n",
    "    plot_outliers(Vs,new_data,outliers_u,outliers_l)\n",
    "    plot_Vs_reel_anomalies(Vs,new_data)\n",
    "    \n",
    "    anomalies= data[data['Class']== 1][Vs]\n",
    "    intersection = (anomalies.index).intersection(outliers_u.index.union(outliers_l.index))\n",
    "    anomalies_count =anomalies.size\n",
    "    anomalies_detected =outliers_u.size+ outliers_l.size\n",
    "    anomalies_detected_percentage =intersection.size*100/anomalies_count\n",
    "    print('Anomalies:', anomalies_count)\n",
    "    print('Anomalies by Cutoff :', anomalies_detected)\n",
    "    print('% Anomalies detected: {:.2f}%'. format(anomalies_detected_percentage))\n",
    "\n",
    "    print(new_data['cutoff_status'].values)\n",
    "    \n",
    "    assesements = asses_method(new_data['Class'].values,new_data['cutoff_status'].values)\n",
    "    Accuracy=assesements['Accuracy']\n",
    "    F1=assesements['F1']\n",
    "    Recall=assesements['Recall']\n",
    "    Precision=assesements['Precision']\n",
    "    FNR=assesements['FNR']\n",
    "    FPR=assesements['FPR']\n",
    "\n",
    "    #Vs','Method','Accuracy','F1','Recall','Precision','FNR','FPR'\n",
    "    results_df.loc[len(results_df)] = [Vs,'Cutoff',Accuracy,F1,Recall,Precision,FNR,FPR]\n",
    "    \n",
    "    return new_data\n",
    "\n",
    "results_df=results_df[(results_df.Method != 'Cutoff')]\n"
   ]
  },
  {
   "cell_type": "code",
   "execution_count": null,
   "metadata": {},
   "outputs": [],
   "source": []
  }
 ],
 "metadata": {
  "kernelspec": {
   "display_name": "Python 3",
   "language": "python",
   "name": "python3"
  },
  "language_info": {
   "codemirror_mode": {
    "name": "ipython",
    "version": 3
   },
   "file_extension": ".py",
   "mimetype": "text/x-python",
   "name": "python",
   "nbconvert_exporter": "python",
   "pygments_lexer": "ipython3",
   "version": "3.10.10"
  },
  "orig_nbformat": 4
 },
 "nbformat": 4,
 "nbformat_minor": 2
}
